{
 "cells": [
  {
   "cell_type": "code",
   "execution_count": 1,
   "id": "842a8fec",
   "metadata": {},
   "outputs": [],
   "source": [
    "import numpy as np\n",
    "import matplotlib.pyplot as plt\n",
    "import scipy.stats as scs"
   ]
  },
  {
   "cell_type": "markdown",
   "id": "68217dd1",
   "metadata": {},
   "source": [
    "## Generating Brownian Motion\n",
    "\n",
    "Brownian motion from the normal distribution"
   ]
  },
  {
   "cell_type": "code",
   "execution_count": 2,
   "id": "8e87c108",
   "metadata": {},
   "outputs": [],
   "source": [
    "def Monte_Carlo_Sample_Generation_Multi(T,M,d):\n",
    "    return np.random.normal(0,np.sqrt(T),(M,d))"
   ]
  },
  {
   "cell_type": "markdown",
   "id": "d6d0d8bf",
   "metadata": {},
   "source": [
    "## Simulating porfolio value movement"
   ]
  },
  {
   "cell_type": "code",
   "execution_count": 3,
   "id": "39e5a2aa",
   "metadata": {},
   "outputs": [],
   "source": [
    "def Portfolio_Simulation(r,S,T,sigma,W_T,M,d,amount_of_stock):\n",
    "    if np.sum(w)==1: #We require the weighted average to add up to 1\n",
    "            Smat=np.zeros((d,M)) #Starting our final S as a vector of zeros shape d x M\n",
    "            portfolio_values=np.zeros(M)\n",
    "            for i in range(d):\n",
    "                    Smat[i]=S[i]*np.exp((sigma[i]*W_T[:,i])+(r-0.5*sigma[i]**2)*T) \n",
    "                    #For each underlying stock we apply our stock price formula\n",
    "    return Smat.T@amount_of_stock #Multiplying our simulated stock prices by the amount of each stock in the portfolio"
   ]
  },
  {
   "cell_type": "code",
   "execution_count": 4,
   "id": "c36e4f0e",
   "metadata": {},
   "outputs": [],
   "source": [
    "r=0.1 #Interest rate\n",
    "S_a,S_b,S_c,S_d=50,60,70,80 #Initial stock prices\n",
    "S=[S_a,S_b,S_c,S_d] #List of the starting stock prices\n",
    "T=31/365 #1 year\n",
    "sig_a, sig_b, sig_c, sig_d=0.15,0.3,0.6,0.2 #Annual volatility for each underlying\n",
    "sigma=[sig_a,sig_b,sig_c,sig_d] \n",
    "M=10000 #Simulations\n",
    "d=4 #Dimensions i.e number of stocks\n",
    "w=[0.4,0.25,0.25,0.1] #Weights"
   ]
  },
  {
   "cell_type": "code",
   "execution_count": 5,
   "id": "8b31ccd8",
   "metadata": {},
   "outputs": [],
   "source": [
    "Initial_Portfolio_Value=1000000 #The intial portfolio value\n",
    "Portfolio_Value_Split=[Initial_Portfolio_Value*w[i] for i in range(d)] #How the value is split across the different assets\n",
    "Amount_Of_Stock=[Portfolio_Value_Split[i]/S[i] for i in range(d)] #The amount each asset held in the portfolio"
   ]
  },
  {
   "cell_type": "code",
   "execution_count": 6,
   "id": "feb8e921",
   "metadata": {},
   "outputs": [],
   "source": [
    "W_T=Monte_Carlo_Sample_Generation_Multi(T,M,d) #Generating Brownian motion\n",
    "Portfolios=Portfolio_Simulation(r,S,T,sigma,W_T,M,d,Amount_Of_Stock) #Simulating the portfolio for M number of simulations\n",
    "Portfolio_Returns=np.sort(Portfolios-Initial_Portfolio_Value) #Calculating and arranging the returns "
   ]
  },
  {
   "cell_type": "code",
   "execution_count": 7,
   "id": "b19a2ff6",
   "metadata": {},
   "outputs": [
    {
     "data": {
      "image/png": "[encoded data removed]",
      "text/plain": [
       "<Figure size 432x288 with 1 Axes>"
      ]
     },
     "metadata": {
      "needs_background": "light"
     },
     "output_type": "display_data"
    }
   ],
   "source": [
    "plt.hist(Portfolio_Returns, density=1, bins=30) #Plotting the histogram of the Portfolio Returns\n",
    "plt.title('Portfolio Returns')\n",
    "plt.grid();"
   ]
  },
  {
   "cell_type": "code",
   "execution_count": 8,
   "id": "1bc0b72d",
   "metadata": {},
   "outputs": [
    {
     "name": "stdout",
     "output_type": "stream",
     "text": [
      "Confidence Level(%)       VaR($)\n",
      "----------------------------\n",
      "         99.00      103176.39\n",
      "         97.50       87170.38\n",
      "         95.00       73191.17\n"
     ]
    }
   ],
   "source": [
    "perc_level=[1,2.5,5] #The Percentage levels\n",
    "Value_at_Risk=scs.scoreatpercentile(Portfolio_Returns,perc_level) #The Value at Risk is the corresponding lowest x percentile\n",
    "print('%14s %12s' %('Confidence Level(%)', 'VaR($)'))\n",
    "print(28*'-')\n",
    "for pair in zip(perc_level, Value_at_Risk):\n",
    "    print('%14.2f %14.2f' %(100 - pair[0], -pair[1]))"
   ]
  }
 ],
 "metadata": {
  "kernelspec": {
   "display_name": "Python 3",
   "language": "python",
   "name": "python3"
  },
  "language_info": {
   "codemirror_mode": {
    "name": "ipython",
    "version": 3
   },
   "file_extension": ".py",
   "mimetype": "text/x-python",
   "name": "python",
   "nbconvert_exporter": "python",
   "pygments_lexer": "ipython3",
   "version": "3.8.5"
  }
 },
 "nbformat": 4,
 "nbformat_minor": 5
}
